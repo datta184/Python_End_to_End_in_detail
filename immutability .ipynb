{
 "cells": [
  {
   "cell_type": "code",
   "execution_count": 1,
   "source": [
    "#immutuabiliyt\n",
    "\n",
    "a=10\n",
    "b=10\n",
    "c=10\n",
    "\n",
    "# in the above variables, assigned value is same and varaibles are different that means ,\n",
    "#onely one object will be created by PVM hence memory utilization and perfomance will be improved\n",
    "\n",
    "print(\"\\nThe id of a is :\",id(a))\n",
    "print(\"The id of b is :\",id(b))\n",
    "print(\"The id of c is :\",id(c))"
   ],
   "outputs": [
    {
     "output_type": "stream",
     "name": "stdout",
     "text": [
      "\n",
      "The id of a is : 9789280\n",
      "The id of b is : 9789280\n",
      "The id of c is : 9789280\n"
     ]
    }
   ],
   "metadata": {}
  },
  {
   "cell_type": "code",
   "execution_count": null,
   "source": [],
   "outputs": [],
   "metadata": {}
  },
  {
   "cell_type": "code",
   "execution_count": 2,
   "source": [
    "# LIST\n",
    "\n",
    "#In the list heterogenious object are allowed and represented by []\n",
    "\n",
    "l=[10,20,30,'speed',40.04,50+60j]\n",
    "print('\\n',\"The list l is:\",l,'\\n')\n",
    "\n",
    "#indexing is allowed\n",
    "print(\"The fith elelment of the list is:\",l[5])"
   ],
   "outputs": [
    {
     "output_type": "stream",
     "name": "stdout",
     "text": [
      "\n",
      " The list l is: [10, 20, 30, 'speed', 40.04, (50+60j)] \n",
      "\n",
      "The fith elelment of the list is: (50+60j)\n"
     ]
    }
   ],
   "metadata": {}
  },
  {
   "cell_type": "code",
   "execution_count": 12,
   "source": [
    "# The list is growable \n",
    "# e.g for int datatype\n",
    "\n",
    "ls=[90,100]\n",
    "li=[10,20,30,40,50,60,70]\n",
    "li.append(80)  \n",
    "print(li)\n",
    "print(\"the count of item is li.count(10):\",li.count(10))\n",
    "li.extend(ls)\n",
    "print(\"extended list is:\",li)\n",
    "li.index(20)\n",
    "print(\"the sum of list is:\",sum(li))\n",
    "print(\"the length of the list is:\",len(li))\n",
    "print(\"the minimum element in the list is:\",min(li))\n",
    "print(\"the maximum element in the list is:\",max(li))"
   ],
   "outputs": [
    {
     "output_type": "stream",
     "name": "stdout",
     "text": [
      "[10, 20, 30, 40, 50, 60, 70, 80]\n",
      "the count of item is li.count(10): 1\n",
      "extended list is: [10, 20, 30, 40, 50, 60, 70, 80, 90, 100]\n",
      "the sum of list is: 550\n",
      "the length of the list is: 10\n",
      "the minimum element in the list is: 10\n",
      "the maximum element in the list is: 100\n"
     ]
    }
   ],
   "metadata": {}
  },
  {
   "cell_type": "code",
   "execution_count": 29,
   "source": [
    "l=[10,40,20,50,90,40]\n",
    "print(l)\n",
    "print(l.pop())\n",
    "print(l)\n",
    "del l[0]\n",
    "print(l)\n",
    "l.remove(40)\n",
    "print(l)\n",
    "l.clear()\n",
    "print(\"now the list is clear\",l)"
   ],
   "outputs": [
    {
     "output_type": "stream",
     "name": "stdout",
     "text": [
      "[10, 40, 20, 50, 90, 40]\n",
      "40\n",
      "[10, 40, 20, 50, 90]\n",
      "[40, 20, 50, 90]\n",
      "[20, 50, 90]\n",
      "now the list is clear []\n"
     ]
    }
   ],
   "metadata": {}
  }
 ],
 "metadata": {
  "kernelspec": {
   "name": "python3",
   "display_name": "Python 3.8.10 64-bit"
  },
  "language_info": {
   "codemirror_mode": {
    "name": "ipython",
    "version": 3
   },
   "file_extension": ".py",
   "mimetype": "text/x-python",
   "name": "python",
   "nbconvert_exporter": "python",
   "pygments_lexer": "ipython3",
   "version": "3.8.10"
  },
  "interpreter": {
   "hash": "916dbcbb3f70747c44a77c7bcd40155683ae19c65e1c03b4aa3499c5328201f1"
  }
 },
 "nbformat": 4,
 "nbformat_minor": 4
}