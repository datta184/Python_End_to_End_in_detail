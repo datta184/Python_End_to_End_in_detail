{
 "cells": [
  {
   "cell_type": "code",
   "execution_count": 1,
   "metadata": {},
   "outputs": [
    {
     "name": "stdout",
     "output_type": "stream",
     "text": [
      "10 output using print()\n",
      "10uotput using sys.stdout.write\n",
      "var is a type of: <class 'int'>\n"
     ]
    }
   ],
   "source": [
    "# 06/05/2021\n",
    "# 1.here we are use int data type and checking it`s type or class and converting it into string and float\n",
    "import sys\n",
    "var=10         # here var is a varaible ypu can use any name instead of var\n",
    "print(var,\"output using print()\")     # here we are printing simple var value with the help of print function . \n",
    "sys.stdout.write(str(var) + \"uotput using sys.stdout.write\"+'\\n')# instead of print we can use \"sys.stdout.write(var) \"  by using import sys\n",
    "print(\"var is a type of:\",type(var))     # checking class of var\n"
   ]
  },
  {
   "cell_type": "code",
   "execution_count": 2,
   "metadata": {},
   "outputs": [
    {
     "name": "stdout",
     "output_type": "stream",
     "text": [
      "12\n",
      "<class 'int'>\n",
      "12\n",
      "<class 'str'>\n"
     ]
    }
   ],
   "source": [
    "# int to string\n",
    "\n",
    "num_int=12\n",
    "print(num_int)\n",
    "print(type(num_int))\n",
    "\n",
    "new=str(num_int)\n",
    "print(new)\n",
    "print(type(new))\n"
   ]
  },
  {
   "cell_type": "code",
   "execution_count": 3,
   "metadata": {},
   "outputs": [
    {
     "name": "stdout",
     "output_type": "stream",
     "text": [
      "1.2\n",
      "<class 'float'>\n",
      "1.2\n",
      "<class 'str'>\n"
     ]
    }
   ],
   "source": [
    "#float to string\n",
    "\n",
    "num_float=1.2\n",
    "print(num_float)\n",
    "print(type(num_float))\n",
    "\n",
    "new=str(num_float)\n",
    "print(new)\n",
    "print(type(new))\n"
   ]
  },
  {
   "cell_type": "code",
   "execution_count": 4,
   "metadata": {},
   "outputs": [
    {
     "name": "stdout",
     "output_type": "stream",
     "text": [
      "(3+2j)\n",
      "<class 'complex'>\n",
      "(3+2j)\n",
      "<class 'str'>\n"
     ]
    }
   ],
   "source": [
    "#complex to string\n",
    "\n",
    "num_com=3+2j\n",
    "print(num_com)\n",
    "print(type(num_com))\n",
    "\n",
    "new=str(num_com)\n",
    "print(new)\n",
    "print(type(new))\n"
   ]
  },
  {
   "cell_type": "code",
   "execution_count": 5,
   "metadata": {},
   "outputs": [
    {
     "name": "stdout",
     "output_type": "stream",
     "text": [
      "speed\n",
      "<class 'str'>\n"
     ]
    },
    {
     "ename": "ValueError",
     "evalue": "invalid literal for int() with base 10: 'speed'",
     "output_type": "error",
     "traceback": [
      "\u001b[0;31m---------------------------------------------------------------------------\u001b[0m",
      "\u001b[0;31mValueError\u001b[0m                                Traceback (most recent call last)",
      "\u001b[0;32m<ipython-input-5-7c4a9a322c90>\u001b[0m in \u001b[0;36m<module>\u001b[0;34m\u001b[0m\n\u001b[1;32m      6\u001b[0m \u001b[0mprint\u001b[0m\u001b[0;34m(\u001b[0m\u001b[0mtype\u001b[0m\u001b[0;34m(\u001b[0m\u001b[0mname\u001b[0m\u001b[0;34m)\u001b[0m\u001b[0;34m)\u001b[0m\u001b[0;34m\u001b[0m\u001b[0;34m\u001b[0m\u001b[0m\n\u001b[1;32m      7\u001b[0m \u001b[0;34m\u001b[0m\u001b[0m\n\u001b[0;32m----> 8\u001b[0;31m \u001b[0mnew\u001b[0m\u001b[0;34m=\u001b[0m\u001b[0mint\u001b[0m\u001b[0;34m(\u001b[0m\u001b[0mname\u001b[0m\u001b[0;34m)\u001b[0m\u001b[0;34m\u001b[0m\u001b[0;34m\u001b[0m\u001b[0m\n\u001b[0m\u001b[1;32m      9\u001b[0m \u001b[0mprint\u001b[0m\u001b[0;34m(\u001b[0m\u001b[0mname\u001b[0m\u001b[0;34m)\u001b[0m\u001b[0;34m\u001b[0m\u001b[0;34m\u001b[0m\u001b[0m\n\u001b[1;32m     10\u001b[0m \u001b[0mprint\u001b[0m\u001b[0;34m(\u001b[0m\u001b[0mtype\u001b[0m\u001b[0;34m(\u001b[0m\u001b[0mnew\u001b[0m\u001b[0;34m)\u001b[0m\u001b[0;34m)\u001b[0m\u001b[0;34m\u001b[0m\u001b[0;34m\u001b[0m\u001b[0m\n",
      "\u001b[0;31mValueError\u001b[0m: invalid literal for int() with base 10: 'speed'"
     ]
    }
   ],
   "source": [
    "#string to int\n",
    "\n",
    "\n",
    "name=\"speed\"\n",
    "print(name)\n",
    "print(type(name))\n",
    "\n",
    "new=int(name)\n",
    "print(name)\n",
    "print(type(new))\n",
    "\n",
    "# error ValueError: invalid literal for int() with base 10: 'speed'"
   ]
  },
  {
   "cell_type": "code",
   "execution_count": 6,
   "metadata": {},
   "outputs": [
    {
     "name": "stdout",
     "output_type": "stream",
     "text": [
      "12.3\n",
      "<class 'float'>\n",
      "12\n",
      "<class 'int'>\n"
     ]
    }
   ],
   "source": [
    "# float to int \n",
    "\n",
    "\n",
    "num_float=12.3\n",
    "print(num_float)\n",
    "print(type(num_float))\n",
    "\n",
    "new=int(num_float)\n",
    "print(new)\n",
    "print(type(new))\n"
   ]
  },
  {
   "cell_type": "code",
   "execution_count": 7,
   "metadata": {},
   "outputs": [
    {
     "name": "stdout",
     "output_type": "stream",
     "text": [
      "(2+5j)\n",
      "<class 'complex'>\n"
     ]
    },
    {
     "ename": "TypeError",
     "evalue": "can't convert complex to int",
     "output_type": "error",
     "traceback": [
      "\u001b[0;31m---------------------------------------------------------------------------\u001b[0m",
      "\u001b[0;31mTypeError\u001b[0m                                 Traceback (most recent call last)",
      "\u001b[0;32m<ipython-input-7-627449ff3b2c>\u001b[0m in \u001b[0;36m<module>\u001b[0;34m\u001b[0m\n\u001b[1;32m      7\u001b[0m \u001b[0mprint\u001b[0m\u001b[0;34m(\u001b[0m\u001b[0mtype\u001b[0m\u001b[0;34m(\u001b[0m\u001b[0mnum_complex\u001b[0m\u001b[0;34m)\u001b[0m\u001b[0;34m)\u001b[0m\u001b[0;34m\u001b[0m\u001b[0;34m\u001b[0m\u001b[0m\n\u001b[1;32m      8\u001b[0m \u001b[0;34m\u001b[0m\u001b[0m\n\u001b[0;32m----> 9\u001b[0;31m \u001b[0mnew\u001b[0m\u001b[0;34m=\u001b[0m\u001b[0mint\u001b[0m\u001b[0;34m(\u001b[0m\u001b[0mnum_complex\u001b[0m\u001b[0;34m)\u001b[0m\u001b[0;34m\u001b[0m\u001b[0;34m\u001b[0m\u001b[0m\n\u001b[0m\u001b[1;32m     10\u001b[0m \u001b[0mprint\u001b[0m\u001b[0;34m(\u001b[0m\u001b[0mnew\u001b[0m\u001b[0;34m)\u001b[0m\u001b[0;34m\u001b[0m\u001b[0;34m\u001b[0m\u001b[0m\n\u001b[1;32m     11\u001b[0m \u001b[0mprint\u001b[0m\u001b[0;34m(\u001b[0m\u001b[0mtype\u001b[0m\u001b[0;34m(\u001b[0m\u001b[0mnew\u001b[0m\u001b[0;34m)\u001b[0m\u001b[0;34m)\u001b[0m\u001b[0;34m\u001b[0m\u001b[0;34m\u001b[0m\u001b[0m\n",
      "\u001b[0;31mTypeError\u001b[0m: can't convert complex to int"
     ]
    }
   ],
   "source": [
    "#complex to int \n",
    "\n",
    "\n",
    "\n",
    "num_complex=2+5j\n",
    "print(num_complex)\n",
    "print(type(num_complex))\n",
    "\n",
    "new=int(num_complex)\n",
    "print(new)\n",
    "print(type(new))\n"
   ]
  },
  {
   "cell_type": "code",
   "execution_count": 8,
   "metadata": {},
   "outputs": [
    {
     "name": "stdout",
     "output_type": "stream",
     "text": [
      "12\n",
      "<class 'str'>\n",
      "12.0\n",
      "<class 'float'>\n"
     ]
    }
   ],
   "source": [
    "#string to float \n",
    "#if we take number in \"\" it convet but if we take sttring in \"\" it doesn`t\n",
    "animal_string=\"12\"\n",
    "print(animal_string)\n",
    "print(type(animal_string))\n",
    "\n",
    "change_to_float=float(animal_string)\n",
    "print(change_to_float)\n",
    "print(type(change_to_float))"
   ]
  },
  {
   "cell_type": "code",
   "execution_count": 9,
   "metadata": {},
   "outputs": [
    {
     "name": "stdout",
     "output_type": "stream",
     "text": [
      "57\n",
      "<class 'int'>\n",
      "57.0\n",
      "<class 'float'>\n"
     ]
    }
   ],
   "source": [
    "#int to float\n",
    "\n",
    "num_int=57\n",
    "print(num_int)\n",
    "print(type(num_int))\n",
    "\n",
    "change=float(num_int)\n",
    "print(change)\n",
    "print(type(change))"
   ]
  },
  {
   "cell_type": "code",
   "execution_count": 10,
   "metadata": {},
   "outputs": [
    {
     "name": "stdout",
     "output_type": "stream",
     "text": [
      "(3+2j)\n",
      "<class 'complex'>\n"
     ]
    },
    {
     "ename": "TypeError",
     "evalue": "can't convert complex to float",
     "output_type": "error",
     "traceback": [
      "\u001b[0;31m---------------------------------------------------------------------------\u001b[0m",
      "\u001b[0;31mTypeError\u001b[0m                                 Traceback (most recent call last)",
      "\u001b[0;32m<ipython-input-10-249d5c309fa1>\u001b[0m in \u001b[0;36m<module>\u001b[0;34m\u001b[0m\n\u001b[1;32m      7\u001b[0m \u001b[0mprint\u001b[0m\u001b[0;34m(\u001b[0m\u001b[0mtype\u001b[0m\u001b[0;34m(\u001b[0m\u001b[0mnum_comp\u001b[0m\u001b[0;34m)\u001b[0m\u001b[0;34m)\u001b[0m\u001b[0;34m\u001b[0m\u001b[0;34m\u001b[0m\u001b[0m\n\u001b[1;32m      8\u001b[0m \u001b[0;34m\u001b[0m\u001b[0m\n\u001b[0;32m----> 9\u001b[0;31m \u001b[0mchange\u001b[0m\u001b[0;34m=\u001b[0m\u001b[0mfloat\u001b[0m\u001b[0;34m(\u001b[0m\u001b[0mnum_comp\u001b[0m\u001b[0;34m)\u001b[0m\u001b[0;34m\u001b[0m\u001b[0;34m\u001b[0m\u001b[0m\n\u001b[0m\u001b[1;32m     10\u001b[0m \u001b[0mprint\u001b[0m\u001b[0;34m(\u001b[0m\u001b[0mchange\u001b[0m\u001b[0;34m)\u001b[0m\u001b[0;34m\u001b[0m\u001b[0;34m\u001b[0m\u001b[0m\n\u001b[1;32m     11\u001b[0m \u001b[0mprint\u001b[0m\u001b[0;34m(\u001b[0m\u001b[0mtype\u001b[0m\u001b[0;34m(\u001b[0m\u001b[0mchange\u001b[0m\u001b[0;34m)\u001b[0m\u001b[0;34m)\u001b[0m\u001b[0;34m\u001b[0m\u001b[0;34m\u001b[0m\u001b[0m\n",
      "\u001b[0;31mTypeError\u001b[0m: can't convert complex to float"
     ]
    }
   ],
   "source": [
    "#int to float\n",
    "\n",
    "#it cant convert complex to float\n",
    "\n",
    "num_comp=3+2j\n",
    "print(num_comp)\n",
    "print(type(num_comp))\n",
    "\n",
    "change=float(num_comp)\n",
    "print(change)\n",
    "print(type(change))"
   ]
  },
  {
   "cell_type": "code",
   "execution_count": 11,
   "metadata": {},
   "outputs": [
    {
     "name": "stdout",
     "output_type": "stream",
     "text": [
      "3\n",
      "<class 'int'>\n",
      "(3+0j)\n",
      "<class 'complex'>\n"
     ]
    }
   ],
   "source": [
    "#int to complex\n",
    "num_int=3\n",
    "print(num_int)\n",
    "print(type(num_int))\n",
    "\n",
    "change=complex(num_int)\n",
    "print(change)\n",
    "print(type(change))"
   ]
  },
  {
   "cell_type": "code",
   "execution_count": 12,
   "metadata": {},
   "outputs": [
    {
     "name": "stdout",
     "output_type": "stream",
     "text": [
      "123\n",
      "<class 'str'>\n",
      "(123+0j)\n",
      "<class 'complex'>\n"
     ]
    }
   ],
   "source": [
    "#string to complex\n",
    "num_string=\"123\"\n",
    "print(num_string)\n",
    "print(type(num_string))\n",
    "\n",
    "change=complex(num_string)\n",
    "print(change)\n",
    "print(type(change))"
   ]
  },
  {
   "cell_type": "code",
   "execution_count": 13,
   "metadata": {},
   "outputs": [
    {
     "name": "stdout",
     "output_type": "stream",
     "text": [
      "123.4\n",
      "<class 'float'>\n",
      "(123.4+0j)\n",
      "<class 'complex'>\n"
     ]
    }
   ],
   "source": [
    "#float to complex\n",
    "num_float=123.4\n",
    "print(num_float)\n",
    "print(type(num_float))\n",
    "\n",
    "change=complex(num_float)\n",
    "print(change)\n",
    "print(type(change))"
   ]
  },
  {
   "cell_type": "code",
   "execution_count": null,
   "metadata": {},
   "outputs": [],
   "source": []
  }
 ],
 "metadata": {
  "kernelspec": {
   "display_name": "Python 3",
   "language": "python",
   "name": "python3"
  },
  "language_info": {
   "codemirror_mode": {
    "name": "ipython",
    "version": 3
   },
   "file_extension": ".py",
   "mimetype": "text/x-python",
   "name": "python",
   "nbconvert_exporter": "python",
   "pygments_lexer": "ipython3",
   "version": "3.8.10"
  }
 },
 "nbformat": 4,
 "nbformat_minor": 4
}
