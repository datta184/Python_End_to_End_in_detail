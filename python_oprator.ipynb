{
 "cells": [
  {
   "cell_type": "markdown",
   "source": [
    "# Python oprator\n",
    " "
   ],
   "metadata": {}
  },
  {
   "cell_type": "markdown",
   "source": [
    "1.Arithematic oprator\n",
    "\n",
    "2.relational oprator / comparision oprator\n",
    "\n",
    "3.Equality oprator\n",
    "\n",
    "4.logical oprator\n",
    "\n",
    "5.Bitwise oprator\n",
    "\n",
    "6.Shift oprator\n",
    "\n",
    "7.Assignment oprator\n",
    "\n",
    "8.Ternary oprator\n",
    "\n",
    "9.Special oprator\n",
    "\n",
    "10.Oprator precefence"
   ],
   "metadata": {}
  },
  {
   "cell_type": "code",
   "execution_count": null,
   "source": [
    "#1.Arithematic oprator\n",
    "# '+' , '-' , '*' , '/' , '%'\n",
    "\n",
    "a=10\n",
    "b=20\n",
    "\n",
    "print(\"the additon of 'a' and 'b' is:\",a+b)\n",
    "print(\"\\nthe substraction of 'a' and 'b' is:\",a-b)\n",
    "print(\"\\nthe multiplication of 'a' and 'b' is:\",a*b)\n",
    "print(\"\\nthe division of 'a' and 'b' is:\",a/b)\n",
    "print(\"\\nthe modulo of 'a' and 'b' is:\",a%b)"
   ],
   "outputs": [],
   "metadata": {}
  },
  {
   "cell_type": "code",
   "execution_count": null,
   "source": [
    "#2.relational/comparison oprators\n",
    "#the result of relational/comparison oprators is 0 or 1 that is True or False\n",
    "# >,>=,<,<=\n",
    "\n",
    "a=222\n",
    "b=111\n",
    "\n",
    "print(a<b) #===>(222<111)---> less than (<) oprator\n",
    "\n",
    "print(\"\\n\",a<=b)#===>(222<=111)---> less than equal to (<=) oprator\n",
    "\n",
    "print(\"\\n\",a>b)#===>(222>111)---> greater than (>) oprator\n",
    "\n",
    "print(\"\\n\",a<=b)#===>(222>=111)---> greater than equal to (>=) oprator\n",
    "\n",
    "print(\"\\n\",True > False)\n",
    "\n",
    "print(\"\\n\",\"datta\" > \"kakde\")"
   ],
   "outputs": [],
   "metadata": {}
  },
  {
   "cell_type": "code",
   "execution_count": null,
   "source": [
    "#3.Equality oprator\n",
    "#==, !=\n",
    "\n",
    "# no compactibility provided in equiality oprator i.e. both should have same type --error--if--> 10 == \"datta\"\n",
    "\n",
    "a=10\n",
    "b=10\n",
    "\n",
    "print(a==b)\n",
    "\n",
    "print(\"\\n\",\"datta\"==\"datta\")\n",
    "print(\"\\n\",1==True)\n",
    "print(\"\\n\",0==True)\n",
    "print(\"\\n\",1==True)\n",
    "\n",
    "print(\"\\n is_not_equal_to:\",10!=20)\n",
    "print(\"\\n is_not_equal_to:\",10!=10)\n",
    "\n",
    "#chaining of the equality oprator is applicable\n",
    "\n",
    "print(\"\\n chain_1:\",10==20==30==40==50)\n",
    "print(\"\\n chain_2:\",10==10==10==10==10)"
   ],
   "outputs": [],
   "metadata": {}
  },
  {
   "cell_type": "code",
   "execution_count": null,
   "source": [
    "#logical oprator\n",
    "# and , or ,not\n",
    "\n",
    "# and for boolean and int \n",
    "\n",
    "print(True and True)\n",
    "print(True and False)\n",
    "print(False and False )\n",
    "\n",
    "print(10 and 20)"
   ],
   "outputs": [],
   "metadata": {}
  },
  {
   "cell_type": "code",
   "execution_count": null,
   "source": [
    "#or for boolean and int\n",
    "print(True or True)\n",
    "print(True or False)\n",
    "print(False or False )\n",
    "\n",
    "print(10 or 20)\n"
   ],
   "outputs": [],
   "metadata": {}
  },
  {
   "cell_type": "code",
   "execution_count": null,
   "source": [
    "#not \n",
    "print(not \"datta\")\n",
    "print(not '')\n",
    "print(not 10)\n",
    "print(not 0)\n",
    "print(not False)"
   ],
   "outputs": [],
   "metadata": {}
  },
  {
   "cell_type": "code",
   "execution_count": null,
   "source": [
    "#bitwise oprator\n",
    "#bitiwise oprator are onley applicable for int and bool\n",
    "\n",
    "print(1 | 1)\n",
    "print(1 | 0)\n",
    "print(12 | 10)\n",
    "print(12 ^ 10)"
   ],
   "outputs": [],
   "metadata": {}
  },
  {
   "cell_type": "code",
   "execution_count": 79,
   "source": [
    "#bitwise complement \n",
    "print(~6)\n",
    "print(~True)"
   ],
   "outputs": [
    {
     "output_type": "stream",
     "name": "stdout",
     "text": [
      "-7\n",
      "-2\n"
     ]
    }
   ],
   "metadata": {}
  },
  {
   "cell_type": "code",
   "execution_count": null,
   "source": [
    "#shift oprator \n",
    "# << , >>\n",
    "print(6<<2)\n",
    "print(15>>2)"
   ],
   "outputs": [],
   "metadata": {}
  },
  {
   "cell_type": "code",
   "execution_count": null,
   "source": [
    "# asssignment oprator --->  =\n",
    "# compound assignment oprator --> += , -+ , *= ,/= , //= , %= , **= ,&= , |= , ^= , <<= ,>>=\n",
    "x=10\n",
    "y=20\n"
   ],
   "outputs": [],
   "metadata": {}
  },
  {
   "cell_type": "code",
   "execution_count": 91,
   "source": [
    "#ternary oprator\n",
    "# --syntax---> Result = value if (condition) else value\n",
    "a=10\n",
    "b=20\n",
    "c=30 if a>b else 40\n",
    "print(c)\n",
    "print()"
   ],
   "outputs": [
    {
     "output_type": "stream",
     "name": "stdout",
     "text": [
      "40\n",
      "\n"
     ]
    }
   ],
   "metadata": {}
  },
  {
   "cell_type": "code",
   "execution_count": 3,
   "source": [
    "#special oprator\n",
    "# 1.identity oprator 2. membership oprator\n",
    "\n",
    "# 1. identity oprator a.is b.is not\n",
    "a=10\n",
    "b=10\n",
    "print(a is b)\n",
    "print(a is not b)\n",
    "\n",
    "\n",
    "# is ---a is b---> true if both references ointing to same object\n",
    "#is not ----a is not b--->rturn true if andonely if both a and b are not pointing to same object"
   ],
   "outputs": [
    {
     "output_type": "stream",
     "name": "stdout",
     "text": [
      "True\n",
      "False\n"
     ]
    }
   ],
   "metadata": {}
  },
  {
   "cell_type": "code",
   "execution_count": 7,
   "source": [
    "# menbership oprators\n",
    "s=\"pyhton is fun \"\n",
    "print('p' in s)\n",
    "print('k' not in s)"
   ],
   "outputs": [
    {
     "output_type": "stream",
     "name": "stdout",
     "text": [
      "True\n",
      "True\n"
     ]
    }
   ],
   "metadata": {}
  },
  {
   "cell_type": "markdown",
   "source": [
    "# oprator precedence"
   ],
   "metadata": {}
  },
  {
   "cell_type": "code",
   "execution_count": null,
   "source": [
    "1. ()\n",
    "\n",
    "2. **\n",
    "\n",
    "3. ~,-\n",
    "\n",
    "4. *,/,%,//\n",
    "\n",
    "5. +,-\n",
    "\n",
    "6. <<,>>\n",
    "\n",
    "7. &\n",
    "\n",
    "8. ^\n",
    "\n",
    "9. |\n",
    "\n",
    "10. >,>=,<,<=,==,!=\n",
    "\n",
    "11. is ,is not\n",
    "\n",
    "12. in ,not in\n",
    "\n",
    "13. not\n",
    "\n",
    "14. and\n",
    "\n",
    "14. or\n"
   ],
   "outputs": [],
   "metadata": {}
  }
 ],
 "metadata": {
  "kernelspec": {
   "display_name": "Python 3",
   "language": "python",
   "name": "python3"
  },
  "language_info": {
   "codemirror_mode": {
    "name": "ipython",
    "version": 3
   },
   "file_extension": ".py",
   "mimetype": "text/x-python",
   "name": "python",
   "nbconvert_exporter": "python",
   "pygments_lexer": "ipython3",
   "version": "3.8.10"
  }
 },
 "nbformat": 4,
 "nbformat_minor": 4
}