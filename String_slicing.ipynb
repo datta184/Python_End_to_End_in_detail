{
 "cells": [
  {
   "cell_type": "code",
   "execution_count": 1,
   "metadata": {},
   "outputs": [
    {
     "name": "stdout",
     "output_type": "stream",
     "text": [
      "SPEED\n",
      "Speed\n",
      "speed\n"
     ]
    }
   ],
   "source": [
    "#String slicing\n",
    "#there are three types of declarations in python  using 'string',\"string\",''' string'''\n",
    "a='SPEED'\n",
    "b=\"Speed\"\n",
    "c='''speed'''\n",
    "print(a)\n",
    "print(b)\n",
    "print(c)"
   ]
  },
  {
   "cell_type": "code",
   "execution_count": 2,
   "metadata": {},
   "outputs": [
    {
     "name": "stdout",
     "output_type": "stream",
     "text": [
      "speed\n",
      "speed\n",
      "speed\n"
     ]
    }
   ],
   "source": [
    "# genral syntax for string string_name[begin:end]\n",
    "s=\"speed\"\n",
    "print(s[0:5])\n",
    "print(s[0:])\n",
    "print(s[:])\n",
    "\n",
    "\n"
   ]
  },
  {
   "cell_type": "code",
   "execution_count": 5,
   "metadata": {},
   "outputs": [
    {
     "name": "stdout",
     "output_type": "stream",
     "text": [
      "Tech\n",
      "no\n",
      "Techno\n"
     ]
    },
    {
     "data": {
      "text/plain": [
       "''"
      ]
     },
     "execution_count": 5,
     "metadata": {},
     "output_type": "execute_result"
    }
   ],
   "source": [
    "#slicing of string using range\n",
    "a=\"Techno\"\n",
    "print(a[0:4])\n",
    "print(a[-2:])\n",
    "print(a[:])\n",
    "s[5:1] #slice operator never going to raise index error  within range  what ever character are there it will going to consider error"
   ]
  }
 ],
 "metadata": {
  "kernelspec": {
   "display_name": "Python 3",
   "language": "python",
   "name": "python3"
  },
  "language_info": {
   "codemirror_mode": {
    "name": "ipython",
    "version": 3
   },
   "file_extension": ".py",
   "mimetype": "text/x-python",
   "name": "python",
   "nbconvert_exporter": "python",
   "pygments_lexer": "ipython3",
   "version": "3.8.10"
  }
 },
 "nbformat": 4,
 "nbformat_minor": 4
}
