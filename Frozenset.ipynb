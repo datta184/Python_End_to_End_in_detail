{
 "cells": [
  {
   "cell_type": "code",
   "execution_count": 1,
   "metadata": {},
   "outputs": [
    {
     "name": "stdout",
     "output_type": "stream",
     "text": [
      "frozenset({'alex', 'sam', 'john', 'peter'})\n"
     ]
    }
   ],
   "source": [
    "#Frozenset \n",
    "#frozenset is immutable\n",
    "\n",
    "person={\"alex\",\"john\",\"peter\",\"sam\"}\n",
    "new_set=frozenset(person)\n",
    "print(new_set)"
   ]
  },
  {
   "cell_type": "code",
   "execution_count": 2,
   "metadata": {},
   "outputs": [
    {
     "data": {
      "text/plain": [
       "frozenset({10, 20, 30, 40, 50, 60})"
      ]
     },
     "execution_count": 2,
     "metadata": {},
     "output_type": "execute_result"
    }
   ],
   "source": [
    "#Frozen set for list\n",
    "set={10,20,30,40,50,60}\n",
    "fset=frozenset(set)\n",
    "fset"
   ]
  },
  {
   "cell_type": "code",
   "execution_count": 3,
   "metadata": {},
   "outputs": [
    {
     "name": "stdout",
     "output_type": "stream",
     "text": [
      "union of a and b is: frozenset({100, 40, 200, 10, 300, 400, 50, 20, 500, 60, 30})\n",
      "\n",
      "intersection of a and b is: frozenset({10, 100})\n",
      "\n",
      "the differance betwen a and b is: frozenset({40, 50, 20, 60, 30})\n",
      "\n",
      "the symmetric difference is : frozenset({200, 400, 20, 30, 40, 300, 50, 500, 60})\n"
     ]
    }
   ],
   "source": [
    "#some oprations on frozenzet\n",
    "a=frozenset({10,20,30,40,50,60,100})\n",
    "b=frozenset({100,200,300,400,500,10})\n",
    "\n",
    "#copying set a into c\n",
    "c=a.copy()\n",
    "c\n",
    "\n",
    "#union \n",
    "print(\"union of a and b is:\",a.union(b))\n",
    "\n",
    "print(\"\\nintersection of a and b is:\",a.intersection(b))\n",
    "\n",
    "print(\"\\nthe differance betwen a and b is:\",a.difference(b))\n",
    "\n",
    "print(\"\\nthe symmetric difference is :\",a.symmetric_difference(b))"
   ]
  },
  {
   "cell_type": "code",
   "execution_count": 13,
   "metadata": {},
   "outputs": [
    {
     "name": "stdout",
     "output_type": "stream",
     "text": [
      "False\n",
      "False\n",
      "False\n"
     ]
    }
   ],
   "source": [
    "A=frozenset([\"cat\",\"goat\",\"dog\",\"lion\"])\n",
    "B=frozenset([\"tiger\",\"elephent\",\"lion\"])\n",
    "C=frozenset([\"snake\",\"python\",\"cobra\",\"lion\"])\n",
    "\n",
    "#is disjoint\n",
    "print(A.isdisjoint(B) and A.isdisjoint(C))\n",
    "\n",
    "#subset\n",
    "print(A.issubset(C))\n",
    "\n",
    "#superset\n",
    "print(A.issuperset(B))\n"
   ]
  }
 ],
 "metadata": {
  "kernelspec": {
   "display_name": "Python 3",
   "language": "python",
   "name": "python3"
  },
  "language_info": {
   "codemirror_mode": {
    "name": "ipython",
    "version": 3
   },
   "file_extension": ".py",
   "mimetype": "text/x-python",
   "name": "python",
   "nbconvert_exporter": "python",
   "pygments_lexer": "ipython3",
   "version": "3.8.10"
  }
 },
 "nbformat": 4,
 "nbformat_minor": 4
}
