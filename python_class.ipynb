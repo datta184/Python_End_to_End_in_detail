{
 "cells": [
  {
   "cell_type": "code",
   "execution_count": null,
   "metadata": {},
   "outputs": [],
   "source": [
    "#  python class\n",
    "'''clas is nothing but a blueprint of  it defines all properties and operations of object'''\n",
    "'''Object is pysical existance of a class'''\n",
    "'''class contain variables and methods'''\n",
    "# Syntax of class\n",
    "'''\n",
    "class ClassName:\n",
    "                doc string(in trile quote)\n",
    "                varaibles(properties)\n",
    "                method(actions/behavior)\n",
    "'''\n",
    "#Example of class\n",
    "class student:\n",
    "    '''this is a class wriiten by datta for python practice''' #doc string\n",
    "    def __init__(self):\n",
    "        self.name=\"datta\"\n",
    "        self.roll_num=68\n",
    "        self.std_id=224568\n",
    "        \n",
    "    def info(self):\n",
    "        print(\"the name of student is;\",self.name)\n",
    "        print(\"the roo number of student is;\",self.roll_num)\n",
    "        print(\"the id of student is;\",self.std_id)\n",
    "        \n",
    "student1=student()\n",
    "student1.info()"
   ]
  },
  {
   "cell_type": "markdown",
   "metadata": {},
   "source": []
  }
 ],
 "metadata": {
  "kernelspec": {
   "display_name": "Python 3",
   "language": "python",
   "name": "python3"
  },
  "language_info": {
   "codemirror_mode": {
    "name": "ipython",
    "version": 3
   },
   "file_extension": ".py",
   "mimetype": "text/x-python",
   "name": "python",
   "nbconvert_exporter": "python",
   "pygments_lexer": "ipython3",
   "version": "3.8.10"
  }
 },
 "nbformat": 4,
 "nbformat_minor": 4
}
