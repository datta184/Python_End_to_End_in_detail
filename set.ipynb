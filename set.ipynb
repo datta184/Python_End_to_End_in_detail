{
 "cells": [
  {
   "cell_type": "code",
   "execution_count": 10,
   "metadata": {},
   "outputs": [
    {
     "name": "stdout",
     "output_type": "stream",
     "text": [
      "<class 'set'>\n",
      "\n",
      "The set is : -----> {10, (2+3j), 20, 0.0001, 'john'}\n",
      "\n",
      "the length of set S1 is: 5\n"
     ]
    }
   ],
   "source": [
    "# SET\n",
    "\n",
    "'''\n",
    "some basic information about the set\n",
    "1.duplicaes are not allowed in set \n",
    "2.order not required\n",
    "3.indedxing and slicing is not allowed\n",
    "4.heterogeneous objects are allowed\n",
    "5.grwable and mutable\n",
    "6.represented by {,}\n",
    "7.{} -----> thos a dictionary because there is no quama inside curly braces\n",
    "'''\n",
    "S1 = {10,20,\"john\",2+3j,0.0001}\n",
    "print(type(S1))\n",
    "print(\"\\nThe set is : ----->\",S1)\n",
    "print(\"\\nthe length of set S1 is:\",len(S1))"
   ]
  },
  {
   "cell_type": "code",
   "execution_count": 11,
   "metadata": {},
   "outputs": [
    {
     "name": "stdout",
     "output_type": "stream",
     "text": [
      "{'rokeferal', 10, (2+3j), 20, 0.0001, 'john'}\n"
     ]
    }
   ],
   "source": [
    "# we can add element in set by using add\n",
    "S1.add(\"rokeferal\")\n",
    "print(S1)"
   ]
  },
  {
   "cell_type": "code",
   "execution_count": 17,
   "metadata": {},
   "outputs": [
    {
     "name": "stdout",
     "output_type": "stream",
     "text": [
      "\n",
      "the length of set S2 is: 4\n",
      "the diffrence between S1 and S2 is: {'rokeferal', 10, 'john'}\n"
     ]
    }
   ],
   "source": [
    "# difference between two set\n",
    "S2={20,\"peter\",0.0001,2+3j}\n",
    "print(\"\\nthe length of set S2 is:\",len(S2))\n",
    "print(\"the diffrence between S1 and S2 is:\",S1.difference(S2))\n",
    "\n"
   ]
  },
  {
   "cell_type": "code",
   "execution_count": 20,
   "metadata": {},
   "outputs": [
    {
     "name": "stdout",
     "output_type": "stream",
     "text": [
      "this is a orignal set S1is : {'rokeferal', 10, (2+3j), 20, 0.0001, 'john'}\n",
      "this is a new set that copyied in s: {'rokeferal', 20, 0.0001, 10, (2+3j), 'john'}\n"
     ]
    }
   ],
   "source": [
    "# Copying set in to another variable\n",
    "s=S1.copy()\n",
    "print(\"this is a orignal set S1is :\",S1)\n",
    "print(\"this is a new set that copyied in s:\",s)"
   ]
  },
  {
   "cell_type": "code",
   "execution_count": 23,
   "metadata": {},
   "outputs": [
    {
     "name": "stdout",
     "output_type": "stream",
     "text": [
      "S1: {'rokeferal', 10, (2+3j), 20, 'john'}\n",
      "S2: {'peter', 0.0001, (2+3j), 20}\n",
      "after discarding items from s1: None {'rokeferal', 10, (2+3j), 20, 'john'}\n"
     ]
    }
   ],
   "source": [
    "#discard method in set \n",
    "'''we have S1 and S2 sets'''\n",
    "print(\"S1:\",S1)\n",
    "print(\"S2:\",S2)\n",
    "'''now we are discarding a items from s1'''\n",
    "print(\"after discarding items from s1:\",S1.discard(0.0001),S1)"
   ]
  },
  {
   "cell_type": "code",
   "execution_count": 24,
   "metadata": {},
   "outputs": [
    {
     "name": "stdout",
     "output_type": "stream",
     "text": [
      "False\n"
     ]
    }
   ],
   "source": [
    "# is disjoint \n",
    "print(S1.isdisjoint(S2))"
   ]
  },
  {
   "cell_type": "code",
   "execution_count": 26,
   "metadata": {},
   "outputs": [
    {
     "name": "stdout",
     "output_type": "stream",
     "text": [
      "False\n"
     ]
    }
   ],
   "source": [
    "# is subset\n",
    "print(S1.issubset(S2))"
   ]
  },
  {
   "cell_type": "code",
   "execution_count": 27,
   "metadata": {},
   "outputs": [
    {
     "name": "stdout",
     "output_type": "stream",
     "text": [
      "False\n"
     ]
    }
   ],
   "source": [
    "# is superset\n",
    "print(S1.issuperset(S2))"
   ]
  },
  {
   "cell_type": "code",
   "execution_count": 33,
   "metadata": {},
   "outputs": [
    {
     "name": "stdout",
     "output_type": "stream",
     "text": [
      "{10, (2+3j), 20, 'john'}\n",
      "after removing the item from set: {(2+3j), 20, 'john'}\n"
     ]
    }
   ],
   "source": [
    "#pop() ---> removing a items from the set\n",
    "print(S1)\n",
    "S1.pop()\n",
    "print(\"after removing the item from set:\",S1)"
   ]
  },
  {
   "cell_type": "code",
   "execution_count": 36,
   "metadata": {},
   "outputs": [
    {
     "data": {
      "text/plain": [
       "'**************************** SUMMARY **********************************************'"
      ]
     },
     "execution_count": 36,
     "metadata": {},
     "output_type": "execute_result"
    }
   ],
   "source": [
    "'''\n",
    "************************************************** SUMMARY **********************************************\n",
    "\n",
    "------------------------------------------------ SET METHOD ---------------------------------------\n",
    "\n",
    "01.add()\n",
    "02.clear()\n",
    "03.copy()\n",
    "04.dofference()\n",
    "05.difference_update()\n",
    "06.rescard() ------> remove the specified items\n",
    "07.pop()    -------> remove the items (randomly ) from set\n",
    "08.isdisjoint()\n",
    "09.issubset()\n",
    "10.isduperset()\n",
    "11.union()\n",
    "12.intersection_update()\n",
    "13.symmetric_difference()\n",
    "14.symmetric_difference_update()\n",
    "15.intersection_update()\n",
    "\n",
    "'''"
   ]
  }
 ],
 "metadata": {
  "kernelspec": {
   "display_name": "Python 3",
   "language": "python",
   "name": "python3"
  },
  "language_info": {
   "codemirror_mode": {
    "name": "ipython",
    "version": 3
   },
   "file_extension": ".py",
   "mimetype": "text/x-python",
   "name": "python",
   "nbconvert_exporter": "python",
   "pygments_lexer": "ipython3",
   "version": "3.8.10"
  }
 },
 "nbformat": 4,
 "nbformat_minor": 4
}
