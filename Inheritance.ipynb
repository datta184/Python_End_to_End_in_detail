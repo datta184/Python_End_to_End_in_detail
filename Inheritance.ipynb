{
 "cells": [
  {
   "cell_type": "markdown",
   "metadata": {},
   "source": [
    "# INHERITANCE"
   ]
  },
  {
   "cell_type": "code",
   "execution_count": null,
   "metadata": {},
   "outputs": [],
   "source": [
    "'''\n",
    "There are three types of inheritance that are:\n",
    "\n",
    "01.Single inhertitance\n",
    "02.Multileval inheritance\n",
    "03.Multipal inheritance\n",
    "\n",
    "\n",
    "\n",
    "'''"
   ]
  },
  {
   "cell_type": "code",
   "execution_count": 7,
   "metadata": {},
   "outputs": [
    {
     "name": "stdout",
     "output_type": "stream",
     "text": [
      "this is a version 1\n",
      "this is a version 2\n",
      "this is a version 1\n",
      "this is a version 2\n"
     ]
    }
   ],
   "source": [
    "# lets take a example of single inheritance and understand it\n",
    "\n",
    "class A:\n",
    "    def version1(self):\n",
    "        print(\"this is a version 1\")\n",
    "        \n",
    "    def version2(self):\n",
    "        print(\"this is a version 2\")\n",
    "        \n",
    "class B(A):\n",
    "    def version3(self):\n",
    "        print(\"this is a version 3\")\n",
    "        \n",
    "    def version4(self):\n",
    "        print(\"this is a version 4\")\n",
    "        \n",
    "        \n",
    "        \n",
    "        \n",
    "a=A()\n",
    "\n",
    "a.version1()\n",
    "a.version2()\n",
    "\n",
    "b=B()                    #  here we access class A properties\n",
    "b.version1()\n",
    "b.version2()"
   ]
  },
  {
   "cell_type": "code",
   "execution_count": 9,
   "metadata": {},
   "outputs": [
    {
     "name": "stdout",
     "output_type": "stream",
     "text": [
      "this is a version 1\n",
      "this is a version 2\n",
      "this is a version 6\n"
     ]
    }
   ],
   "source": [
    "# Lets take another example of multileval inheritance\n",
    "\n",
    "class A:\n",
    "    def version1(self):\n",
    "        print(\"this is a version 1\")\n",
    "        \n",
    "    def version2(self):\n",
    "        print(\"this is a version 2\")\n",
    "        \n",
    "class B(A):\n",
    "    def version3(self):\n",
    "        print(\"this is a version 3\")\n",
    "        \n",
    "    def version4(self):\n",
    "        print(\"this is a version 4\")\n",
    "        \n",
    "        \n",
    "class C(B):\n",
    "    def version5(self):\n",
    "        print(\"this is a version 6\")\n",
    "        \n",
    "    def version6(self):\n",
    "        print(\"this is a version 6\")        \n",
    "        \n",
    "a=A()\n",
    "\n",
    "\n",
    "b=B()               \n",
    "\n",
    "b.version1()\n",
    "b.version2()\n",
    "\n",
    "c=C()\n",
    "c.version5()"
   ]
  },
  {
   "cell_type": "code",
   "execution_count": 11,
   "metadata": {},
   "outputs": [
    {
     "name": "stdout",
     "output_type": "stream",
     "text": [
      "this is a version 3\n",
      "this is a version 1\n"
     ]
    }
   ],
   "source": [
    "# now take an exapmle of multiple inheritance example\n",
    "\n",
    "class A:\n",
    "    def version1(self):\n",
    "        print(\"this is a version 1\")\n",
    "        \n",
    "    def version2(self):\n",
    "        print(\"this is a version 2\")\n",
    "        \n",
    "class B:\n",
    "    def version3(self):\n",
    "        print(\"this is a version 3\")\n",
    "        \n",
    "    def version4(self):\n",
    "        print(\"this is a version 4\")\n",
    "        \n",
    "        \n",
    "class C(A,B):\n",
    "    def version5(self):\n",
    "        print(\"this is a version 6\")\n",
    "        \n",
    "    def version6(self):\n",
    "        print(\"this is a version 6\")        \n",
    "        \n",
    "a=A()\n",
    "\n",
    "\n",
    "b=B()               \n",
    "\n",
    "b.version3()\n",
    "\n",
    "\n",
    "c=C()\n",
    "c.version1()  # in multileval inheritance we cal access all properties of class A and class B"
   ]
  },
  {
   "cell_type": "code",
   "execution_count": null,
   "metadata": {},
   "outputs": [],
   "source": []
  }
 ],
 "metadata": {
  "kernelspec": {
   "display_name": "Python 3",
   "language": "python",
   "name": "python3"
  },
  "language_info": {
   "codemirror_mode": {
    "name": "ipython",
    "version": 3
   },
   "file_extension": ".py",
   "mimetype": "text/x-python",
   "name": "python",
   "nbconvert_exporter": "python",
   "pygments_lexer": "ipython3",
   "version": "3.8.10"
  }
 },
 "nbformat": 4,
 "nbformat_minor": 4
}
