{
 "cells": [
  {
   "cell_type": "markdown",
   "metadata": {},
   "source": [
    "# regular expression\n"
   ]
  },
  {
   "cell_type": "code",
   "execution_count": null,
   "metadata": {},
   "outputs": [],
   "source": [
    "'''\n",
    "The regular expressions can be defined as the sequence of characters which are used to search for a pattern in a string. \n",
    "\n",
    "The 𝗿𝗲 module throws an exception if there is some error while using the regular expression.\n",
    "\n",
    "When we have to perform regular expresion we should compulsory import that module 'import re'.\n",
    "\n",
    "\n",
    "There are 5 function :\n",
    "\n",
    "01.match()=====>This method matches the regex pattern in the string with the optional flag\n",
    "                 It returns true if a match is found in the string otherwise it returns false.\n",
    "                 \n",
    "02.findall()===>It returns a list that contains all the matches of a pattern in the string.\n",
    "\n",
    "03.split()====>Returns a list in which the string has been split in each match.\n",
    "\n",
    "04.search()===>This method returns the match object if there is a match found in the string.\n",
    "\n",
    "05.sub()=====>Replace one or many matches in the string.\n",
    "\n",
    "\n",
    "\n",
    "'''"
   ]
  },
  {
   "cell_type": "markdown",
   "metadata": {},
   "source": [
    "# Meta characters"
   ]
  },
  {
   "cell_type": "code",
   "execution_count": 1,
   "metadata": {},
   "outputs": [
    {
     "data": {
      "text/plain": [
       "'\\n\\n*\\n*\\n\\n\\n\\n\\n\\n\\n\\n\\n\\n\\n\\n\\n\\n\\n\\n\\n\\n\\n\\n\\n\\n\\n\\n\\n\\n\\n\\n\\n\\n\\n\\n\\n\\n\\n\\n\\n\\n\\n\\n\\n\\n\\n\\n\\n\\n\\n\\n\\n\\n\\n\\n\\n\\n\\n\\n\\n\\n\\n\\n\\n\\n\\n\\n\\n\\n\\n\\n'"
      ]
     },
     "execution_count": 1,
     "metadata": {},
     "output_type": "execute_result"
    }
   ],
   "source": [
    "''' \n",
    "\n",
    "*********************************************************************************************************************\n",
    "* META-CHARATER      *                       INFORMATION                                        *    INSTANCE       *\n",
    "*                    *                                                                          *                   *\n",
    "* ********************************************************************************************************************                    *                                                                          *                   **                    *                                                                          *                                                                                              *                  *                                                                          *                                                                          *                                                                          *                                                                          *                                                                         *                                                                          *                                                                         *                                                                          *                                                                          *                                                                          *                                                                      *                   *\n",
    "*                    *                                                                          *                   *                                                                          *                                                                          *                                                                          *                                                                          *                                                                          *                                                                         *                                                                         *                                                                      *                   *\n",
    "*    [ ]             *           It represents the set of characters                            *                   *                                                                          *                                                                          *                                                                          *                                                                          *                                                                         *                                                                         *                                                                      *                   *\n",
    "*                    *                                                                          *                   *                                                                          *                                                                          *                                                                          *                                                                         *                                                                         *                                                                      *                   *\n",
    "*********************************************************************************************************************                                                                          *                                                                          *                                                                         *                                                                         *                                                                      *                   *\n",
    "*                    *                                                                          *                   *                                                                          *                                                                         *                                                                         *                                                                      *                   *\n",
    "*        \\           *           It represents the special sequence                             *                   *                                                                         *                                                                         *                                                                      *                   *\n",
    "*                    *                                                                          *                   *                                                                         *                                                                      *                   *\n",
    "*********************************************************************************************************************\n",
    "*                    *                                                                          *                   *                                                                      *                   *\n",
    "*         .          * It signals that any character is present at some specific place          *                   *                   *\n",
    "*                    *                                                                          *                   *\n",
    "*********************************************************************************************************************\n",
    "*                    *                                                                          *                   *\n",
    "*         ^          * It represents the pattern present at the beginning of the string         *                   *\n",
    "*                    *                                                                          *                   *\n",
    "*********************************************************************************************************************\n",
    "*                    *                                                                          *                   *\n",
    "*         $          * It represents the pattern present at the end of the string               *                   *\n",
    "*                    *                                                                          *                   *\n",
    "*********************************************************************************************************************\n",
    "*                    *                                                                          *                   *\n",
    "*         *          * It represents zero or more occurrences of a pattern in the string        *                   *\n",
    "*                    *                                                                          *                   *\n",
    "*********************************************************************************************************************\n",
    "*                    *                                                                          *                   *\n",
    "*         +          * It represents one or more occurrences of a pattern in the string         *                   *\n",
    "*                    *                                                                          *                   *\n",
    "*********************************************************************************************************************\n",
    "*                    *                                                                          *                   *\n",
    "*       { }          * The specified number of occurrences of a pattern the string              *                   *\n",
    "*                    *                                                                          *                   *\n",
    "*********************************************************************************************************************\n",
    "*                    *                                                                          *                   *\n",
    "*        |           * It represents either this or that character is present                   *                   *\n",
    "*                    *                                                                          *                   *\n",
    "*********************************************************************************************************************\n",
    "*                    *                                                                          *                   *\n",
    "*        ( )         *                Capture and group                                         *                   *\n",
    "*                    *                                                                          *                   *\n",
    "*********************************************************************************************************************\n",
    "'''"
   ]
  },
  {
   "cell_type": "code",
   "execution_count": 5,
   "metadata": {},
   "outputs": [
    {
     "name": "stdout",
     "output_type": "stream",
     "text": [
      "['How']\n"
     ]
    }
   ],
   "source": [
    "# Lets see the exapmle\n",
    "import re\n",
    "\n",
    "str=\"how are you,How is everything\"\n",
    "\n",
    "match=re.findall(\"How\",str)\n",
    "\n",
    "print(match)"
   ]
  },
  {
   "cell_type": "code",
   "execution_count": null,
   "metadata": {},
   "outputs": [],
   "source": []
  }
 ],
 "metadata": {
  "kernelspec": {
   "display_name": "Python 3",
   "language": "python",
   "name": "python3"
  },
  "language_info": {
   "codemirror_mode": {
    "name": "ipython",
    "version": 3
   },
   "file_extension": ".py",
   "mimetype": "text/x-python",
   "name": "python",
   "nbconvert_exporter": "python",
   "pygments_lexer": "ipython3",
   "version": "3.8.10"
  }
 },
 "nbformat": 4,
 "nbformat_minor": 4
}
