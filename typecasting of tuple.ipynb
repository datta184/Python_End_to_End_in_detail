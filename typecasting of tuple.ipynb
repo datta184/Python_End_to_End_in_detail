{
 "cells": [
  {
   "cell_type": "code",
   "execution_count": 5,
   "metadata": {},
   "outputs": [
    {
     "name": "stdout",
     "output_type": "stream",
     "text": [
      "[10, 20, 30, 40] this is a type of---> <class 'list'> \n",
      "\n",
      "(10, 20, 30, 40) this is a type of---> <class 'tuple'> \n",
      "\n",
      "the modified tuple is: (5, 20, 30, 100, 40)\n"
     ]
    }
   ],
   "source": [
    "# typecasting of tuple \n",
    "a=(10,20,30,40)     #creating tuple\n",
    "\n",
    "b=list(a)          #converting tuple to list\n",
    "\n",
    "print(b,\"this is a type of--->\",type(b),\"\\n\")   #printing types\n",
    "print(a,\"this is a type of--->\",type(a),\"\\n\")   #printing types\n",
    "\n",
    "b[0]=5               #performing some certain oprations\n",
    "b.insert(3,100)      #performing some certain oprations\n",
    "\n",
    "c=tuple(b)            #converting back list to tuple\n",
    "\n",
    "print(\"the modified tuple is:\",c)          #finally printing the modifyed tuple"
   ]
  }
 ],
 "metadata": {
  "kernelspec": {
   "display_name": "Python 3",
   "language": "python",
   "name": "python3"
  },
  "language_info": {
   "codemirror_mode": {
    "name": "ipython",
    "version": 3
   },
   "file_extension": ".py",
   "mimetype": "text/x-python",
   "name": "python",
   "nbconvert_exporter": "python",
   "pygments_lexer": "ipython3",
   "version": "3.8.10"
  }
 },
 "nbformat": 4,
 "nbformat_minor": 4
}
