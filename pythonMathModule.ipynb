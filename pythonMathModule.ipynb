{
 "cells": [
  {
   "cell_type": "markdown",
   "metadata": {},
   "source": [
    "# Math module"
   ]
  },
  {
   "cell_type": "code",
   "execution_count": null,
   "metadata": {},
   "outputs": [],
   "source": [
    "-------------------------------------------------- 1 -------------------------------------------------------------\n",
    "\n",
    "'''\n",
    "\n",
    "This module provides access to the mathematical functions defined by the C standard.\n",
    "\n",
    "The following functions are provided by this module. \n",
    "Except when explicitly noted otherwise, all return values are floats.\n",
    "\n",
    "********************************************************************************************************************\n",
    "************************ Number-theoretic and representation functions******************************************\n",
    "\n",
    "01.math.ceil()===>It returns the ceil value\n",
    "02.math.comb(k,n) ======>Also called the binomial coefficient because it is equivalent to the coefficient of k-th term in polynomial expansion of the expression (1 + x) ** n.\n",
    "03.math.copysign(x, y)====>Return a float with the magnitude (absolute value) of x but the sign of y. On platforms that support signed zeros, copysign(1.0, -0.0) returns -1.0.\n",
    "04.math.fabs(x)====>returns the absolute value of x (The absolute value (or modulus) | x | of a real number x is the non-negative value of x without regard to its sign. For example, the absolute value of 5 is 5, and the absolute value of −5 is also 5. The absolute value of a number may be thought of as its distance from zero along real number line)\n",
    "05.math.copysign(x,y)==>Return a float with the magnitude (absolute value) of x but the sign of y. On platforms that support signed zeros, copysign(1.0, -0.0) returns -1.0.\n",
    "06.math.floor(x)===>it returns the floor value\n",
    "07.math.fsum()====>Return an accurate floating point sum of values in the iterable. Avoids loss of precision by tracking multiple intermediate partial sums:\n",
    "'''\n",
    "-------------------------------------------------- 1 ------------------------------------------------------------\n",
    "\n",
    "'''\n",
    "********************************************************************************************************************\n",
    "**************************************Power and logarithmic functions***********************************************\n",
    "01.math.exp(x)==>Return e raised to the power x, where e = 2.718281… is the base of natural logarithms. This is usually more accurate than math.e ** x or pow(math.e, x).\n",
    "02.math.log(x,base)==>With one argument, return the natural logarithm of x (to base e).\n",
    "03.math.log10(x)===>Return the base-10 logarithm of x. This is usually more accurate than log(x, 10).\n",
    "04.math.pow(x)==>Unlike the built-in ** operator, math.pow() converts both its arguments to type float. Use ** or the built-in pow() function for computing exact integer powers.\n",
    "05.math.sqrt(x)==>return the square root of x\n",
    "06.math.cos(x)===>return the cosine of x in radians\n",
    "\n",
    "'''\n",
    "\n",
    "----------------------------------------------- 3 ------------------------------------------------------------------\n",
    "'''\n",
    "                                 TRIGONOMATRIC FUNCTTIONS\n",
    "\n",
    "01.math.degrees(x)===>convert angle x from radians to degrees \n",
    "02.math.radians(X)===>convert angle x from degrees to radians\n",
    "03.math.sin(x)===>return the sine of x in radians\n",
    "04.math.tan(x)===>returnds the tangebt of x in radians \n",
    "\n",
    "'''\n",
    "\n",
    "---------------------------------------------- 4 --------------------------------------------------------------\n",
    "'''\n",
    "                                      HYPERBOLIC FUNCTIONS\n",
    "                                      \n",
    "01.math.acosh(x)==>Return the inverse hyperbolic cosine of x.\n",
    "02.math.asinh(x)===>Return the inverse hyperbolic sine of x.\n",
    "03.math.atanh(x)===>Return the inverse hyperbolic tangent of x.\n",
    "04.math.cosh(x)===> return the hyperbolic cosine of x.\n",
    "05.math.sinh(x)===>return the hyperbolix sine of x.\n",
    "06.math.tanh(x)==>return the hyperbolic tanjent of x.\n",
    "\n",
    "\n",
    "\n",
    "'''"
   ]
  },
  {
   "cell_type": "code",
   "execution_count": 3,
   "metadata": {},
   "outputs": [
    {
     "name": "stdout",
     "output_type": "stream",
     "text": [
      " ceil value of x= 10.99 is: 11\n"
     ]
    }
   ],
   "source": [
    "# Number-theoretic and representation functions\n",
    "import math\n",
    "x=10.99\n",
    "print(\" ceil value of x=\",x,\"is:\",math.ceil(x))"
   ]
  },
  {
   "cell_type": "code",
   "execution_count": 10,
   "metadata": {},
   "outputs": [
    {
     "name": "stdout",
     "output_type": "stream",
     "text": [
      "Enter the number that you want logarithmic value9\n",
      "\n",
      "the logaritnmic value of y= 9 is: 0.9542425094393249\n",
      "\n",
      "cosine value of 90 in raidian is: -0.4480736161291701\n"
     ]
    }
   ],
   "source": [
    "#Power and logarithmic functions\n",
    "import math\n",
    "\n",
    "y=int(input(\"Enter the number that you want logarithmic value\"))\n",
    "print(\"\\nthe logaritnmic value of y=\",y,\"is:\",math.log(y,10))  # 10 is a base\n"
   ]
  },
  {
   "cell_type": "code",
   "execution_count": 11,
   "metadata": {},
   "outputs": [
    {
     "name": "stdout",
     "output_type": "stream",
     "text": [
      "\n",
      "cosine value of 90 in raidian is: -0.4480736161291701\n"
     ]
    }
   ],
   "source": [
    "import math\n",
    "a=90\n",
    "print(\"\\ncosine value of 90 in raidian is:\",math.cos(90))"
   ]
  },
  {
   "cell_type": "code",
   "execution_count": 12,
   "metadata": {
    "scrolled": true
   },
   "outputs": [
    {
     "name": "stdout",
     "output_type": "stream",
     "text": [
      "1.5430806348152437\n",
      "3665.986837772461\n"
     ]
    }
   ],
   "source": [
    "# Import math Library\n",
    "import math\n",
    "\n",
    "# Return the hyperbolic cosine of different numbers\n",
    "print (math.cosh(1))\n",
    "print (math.cosh(8.90))"
   ]
  },
  {
   "cell_type": "code",
   "execution_count": null,
   "metadata": {},
   "outputs": [],
   "source": []
  }
 ],
 "metadata": {
  "kernelspec": {
   "display_name": "Python 3",
   "language": "python",
   "name": "python3"
  },
  "language_info": {
   "codemirror_mode": {
    "name": "ipython",
    "version": 3
   },
   "file_extension": ".py",
   "mimetype": "text/x-python",
   "name": "python",
   "nbconvert_exporter": "python",
   "pygments_lexer": "ipython3",
   "version": "3.8.10"
  }
 },
 "nbformat": 4,
 "nbformat_minor": 4
}
