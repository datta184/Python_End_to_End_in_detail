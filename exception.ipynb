{
 "cells": [
  {
   "cell_type": "markdown",
   "metadata": {},
   "source": [
    "# python exception"
   ]
  },
  {
   "cell_type": "code",
   "execution_count": null,
   "metadata": {},
   "outputs": [],
   "source": [
    "'''\n",
    "* excetion is nothing but an unusaul condition in a program resulting in the interruption \n",
    "  in the flow of programm.\n",
    "* python has may built-in excetions that are enable our program to run without interrruption \n",
    "  and give the output\n",
    "'''"
   ]
  },
  {
   "cell_type": "markdown",
   "metadata": {},
   "source": [
    "## common excetions"
   ]
  },
  {
   "cell_type": "markdown",
   "metadata": {},
   "source": [
    "  - ZeroDivisionError\n",
    "  - NameError\n",
    "  - IndentationError\n",
    "  - IOError\n",
    "  - EOFerror\n"
   ]
  },
  {
   "cell_type": "code",
   "execution_count": 8,
   "metadata": {},
   "outputs": [
    {
     "ename": "ZeroDivisionError",
     "evalue": "division by zero",
     "output_type": "error",
     "traceback": [
      "\u001b[0;31m---------------------------------------------------------------------------\u001b[0m",
      "\u001b[0;31mZeroDivisionError\u001b[0m                         Traceback (most recent call last)",
      "\u001b[0;32m/tmp/ipykernel_614911/657846625.py\u001b[0m in \u001b[0;36m<module>\u001b[0;34m\u001b[0m\n\u001b[1;32m      2\u001b[0m \u001b[0ma\u001b[0m\u001b[0;34m=\u001b[0m\u001b[0;36m1\u001b[0m\u001b[0;34m\u001b[0m\u001b[0;34m\u001b[0m\u001b[0m\n\u001b[1;32m      3\u001b[0m \u001b[0mb\u001b[0m\u001b[0;34m=\u001b[0m\u001b[0;36m0\u001b[0m\u001b[0;34m\u001b[0m\u001b[0;34m\u001b[0m\u001b[0m\n\u001b[0;32m----> 4\u001b[0;31m \u001b[0mc\u001b[0m\u001b[0;34m=\u001b[0m\u001b[0ma\u001b[0m\u001b[0;34m/\u001b[0m\u001b[0mb\u001b[0m\u001b[0;34m\u001b[0m\u001b[0;34m\u001b[0m\u001b[0m\n\u001b[0m\u001b[1;32m      5\u001b[0m \u001b[0mprint\u001b[0m\u001b[0;34m(\u001b[0m\u001b[0;34m\"a/b=%d\"\u001b[0m\u001b[0;34m%\u001b[0m\u001b[0mc\u001b[0m\u001b[0;34m)\u001b[0m\u001b[0;34m\u001b[0m\u001b[0;34m\u001b[0m\u001b[0m\n\u001b[1;32m      6\u001b[0m \u001b[0;31m#other code\u001b[0m\u001b[0;34m\u001b[0m\u001b[0;34m\u001b[0m\u001b[0;34m\u001b[0m\u001b[0m\n",
      "\u001b[0;31mZeroDivisionError\u001b[0m: division by zero"
     ]
    }
   ],
   "source": [
    "# lets take an example without handling exception\n",
    "a=1\n",
    "b=0\n",
    "c=a/b\n",
    "print(\"a/b=%d\"%c)\n",
    "#other code\n",
    "print(\"Another part of program\")"
   ]
  },
  {
   "cell_type": "markdown",
   "metadata": {},
   "source": [
    " - the above code is syntactically correct though it throw an error "
   ]
  },
  {
   "cell_type": "markdown",
   "metadata": {},
   "source": [
    "## excetion handling in python"
   ]
  },
  {
   "cell_type": "markdown",
   "metadata": {},
   "source": [
    "### try-except "
   ]
  },
  {
   "cell_type": "code",
   "execution_count": 9,
   "metadata": {},
   "outputs": [
    {
     "name": "stdout",
     "output_type": "stream",
     "text": [
      "Program for demonstrationof try-excepts exception handling in python\n",
      "\n",
      "input 1:1\n",
      "input 2:2\n",
      "0.5\n"
     ]
    }
   ],
   "source": [
    "# if a python code contain suspicious code it will throw an exception we must place code in\n",
    "#try block.the try block must fallowed by except\n",
    "print(\"Program for demonstrationof try-excepts exception handling in python\\n\")\n",
    "try:\n",
    "    num_1=int(input(\"input 1:\"))\n",
    "    num_2=int(input(\"input 2:\"))\n",
    "    result=num_1/num_2\n",
    "    print(result)\n",
    "except:\n",
    "\n",
    "     print(\"cant divide with zero\")\n"
   ]
  },
  {
   "cell_type": "markdown",
   "metadata": {},
   "source": [
    "### try except else"
   ]
  },
  {
   "cell_type": "code",
   "execution_count": null,
   "metadata": {},
   "outputs": [],
   "source": [
    "# syntax is \n",
    "try:\n",
    "    \n",
    "    {run this code}\n",
    "    \n",
    "except:\n",
    "    \n",
    "    {run this code if an exception occure}\n",
    "    \n",
    "else:\n",
    "    \n",
    "    {run this code if no exception occure}"
   ]
  },
  {
   "cell_type": "code",
   "execution_count": 11,
   "metadata": {},
   "outputs": [
    {
     "name": "stdout",
     "output_type": "stream",
     "text": [
      "input 1:1\n",
      "input 2:1\n",
      "1.0\n",
      "Yeh! no Exception\n"
     ]
    }
   ],
   "source": [
    "try:\n",
    "    num_1=int(input(\"input 1:\"))\n",
    "    num_2=int(input(\"input 2:\"))\n",
    "    result=num_1/num_2\n",
    "    print(result)\n",
    "except:\n",
    "#     if num_2!=0:\n",
    "#         pass\n",
    "    print(\"cant divide with zero\")\n",
    "else:\n",
    "    print(\"Yeh! no Exception\")"
   ]
  },
  {
   "cell_type": "markdown",
   "metadata": {},
   "source": [
    "## try and finally"
   ]
  },
  {
   "cell_type": "markdown",
   "metadata": {},
   "source": [
    "- in python finally statement is used with try"
   ]
  },
  {
   "cell_type": "code",
   "execution_count": null,
   "metadata": {},
   "outputs": [],
   "source": [
    "# syntax\n",
    "try:\n",
    "    # this code of block may throw an exception \n",
    "except:\n",
    "    # this code of block always will be executed"
   ]
  },
  {
   "cell_type": "code",
   "execution_count": 26,
   "metadata": {},
   "outputs": [
    {
     "name": "stdout",
     "output_type": "stream",
     "text": [
      "input the first number:1\n",
      "input the second number:2\n",
      "input the third number:3\n",
      "entered numbers are not same\n"
     ]
    }
   ],
   "source": [
    "a=int(input(\"input the first number:\"))\n",
    "b=int(input(\"input the second number:\"))\n",
    "c=int(input(\"input the third number:\"))\n",
    "try:\n",
    "    a=b\n",
    "    try:\n",
    "        b=c\n",
    "    finally:\n",
    "        if a==b==c:\n",
    "            print(\"entered numbers are same\")\n",
    "        else:\n",
    "            print(\"entered numbers are not same\")\n",
    "            \n",
    "            # here fianly block will always ececuted\n",
    "        \n",
    "except:\n",
    "    print(\"error\")"
   ]
  },
  {
   "cell_type": "markdown",
   "metadata": {},
   "source": [
    "# Some points to remember"
   ]
  },
  {
   "cell_type": "markdown",
   "metadata": {},
   "source": [
    " - we can declare multiple exceptiond in except statement\n",
    " - we can also specify else with try-eexcpet \n",
    " - the statement that dont throw ception should be placed inside 'else'  block "
   ]
  },
  {
   "cell_type": "raw",
   "metadata": {},
   "source": [
    "try:\n",
    "    {\n",
    "        RUN THIS CODE\n",
    "    }\n",
    "    \n",
    "except:\n",
    "    {\n",
    "        RUN THIS CODE IF AN EXCEPTION OCCURE\n",
    "    }\n",
    "\n",
    "else:\n",
    "    {\n",
    "        RUN THIS CODE IF NO EXCEPTION OCCURE\n",
    "    }\n",
    "    \n",
    "finally:\n",
    "    {\n",
    "        ALWAYS RUN THIS CODE\n",
    "    }"
   ]
  },
  {
   "cell_type": "code",
   "execution_count": null,
   "metadata": {},
   "outputs": [],
   "source": []
  }
 ],
 "metadata": {
  "kernelspec": {
   "display_name": "Python 3 (ipykernel)",
   "language": "python",
   "name": "python3"
  },
  "language_info": {
   "codemirror_mode": {
    "name": "ipython",
    "version": 3
   },
   "file_extension": ".py",
   "mimetype": "text/x-python",
   "name": "python",
   "nbconvert_exporter": "python",
   "pygments_lexer": "ipython3",
   "version": "3.8.10"
  }
 },
 "nbformat": 4,
 "nbformat_minor": 4
}
