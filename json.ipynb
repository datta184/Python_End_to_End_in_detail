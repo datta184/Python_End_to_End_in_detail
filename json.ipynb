{
 "cells": [
  {
   "cell_type": "markdown",
   "metadata": {},
   "source": [
    "# Json"
   ]
  },
  {
   "cell_type": "code",
   "execution_count": null,
   "metadata": {},
   "outputs": [],
   "source": [
    "'''\n",
    "Json ======> JavaScript Object Notation\n",
    "\n",
    "for the understanding json we have  to frist understand the concept of seriliazsation and sesrilization\n",
    "\n",
    "\n",
    "    OBJECT SERILIZATION :--> The process of converting the object from python supported form to either file supported\n",
    "                             form or network supported form is called serilization[marshling,pickling]\n",
    "                             \n",
    "                     \n",
    "    DESERILIZATION:----> The proccess of converting an object from either file supported form or network supported \n",
    "                         form to python supported form is called deserilization[unmarshlling,unpickling]\n",
    "                         \n",
    "**********************************METHODS TO SERILIZATION OF OBJECT***********************************************\n",
    "                         \n",
    "                         object serilization by using-------> pickle\n",
    "                         \n",
    "                         object serilization by using-------->json\n",
    "                         \n",
    "                         object serilization by using-------->YAML\n",
    "                         \n",
    "'''"
   ]
  },
  {
   "cell_type": "markdown",
   "metadata": {},
   "source": [
    "# json is very similar to pythons dic object"
   ]
  },
  {
   "cell_type": "markdown",
   "metadata": {},
   "source": [
    "# in olden days we use the very common messege format is XML which is           heavy weight.but these day everyone prefferingpreffering the Json because light weight"
   ]
  },
  {
   "cell_type": "code",
   "execution_count": null,
   "metadata": {},
   "outputs": [],
   "source": [
    "'''\n",
    "as a part of programming requirment it is very common requirment to convert python object in json form and from \n",
    "json to python object for thsese conversion [serilization and deserilization] python provide inbuilt module json\n",
    "\n",
    "\n",
    "** For seril;ization [python to Json form]\n",
    "\n",
    "  1.dumps()====>It serilizes the python dict to json string\n",
    "  2.dump()=====>converting python dict object to json and write that json to specified json file.it serilizes to file\n",
    "  \n",
    "  \n",
    "  \n",
    "** Ffor deserilization purpose[from json to python form]\n",
    "    1.loads()===>converting json string to python dictionary.(it deserilizes to a string)\n",
    "    2.load()====>reading json from  a file and convertiong to python dict object (deserilizes from a json file)\n",
    "    \n",
    "'''\n",
    "\n"
   ]
  },
  {
   "cell_type": "code",
   "execution_count": null,
   "metadata": {},
   "outputs": [],
   "source": [
    "# serilization\n",
    "import json\n",
    "employee={\n",
    "    'name':'python',\n",
    "    'age':'1000',\n",
    "    'ismarried':True,  \n",
    "     'havinggf':None\n",
    "}\n",
    "\n",
    "json_string=json.dumps(employee,indent=4)\n",
    "print(json_string)\n",
    "\n",
    "with open('emp.json','w') as f:\n",
    "    json.dump(employee,f,indent=4)\n"
   ]
  },
  {
   "cell_type": "code",
   "execution_count": null,
   "metadata": {},
   "outputs": [],
   "source": [
    "'''\n",
    "In above cell its succeesfully converted in json file \n",
    "\n",
    "'ismarried':True  =====> In python\n",
    "\n",
    " \"ismarried\":true =====>in json    see 'True' aand 'true'\n",
    "\n",
    "'''"
   ]
  },
  {
   "cell_type": "markdown",
   "metadata": {},
   "source": [
    "'''\n",
    "Pyhton   Vs  JavaScript\n",
    "\n",
    "int   =======> number\n",
    "float =======> number\n",
    "list  =======> array\n",
    "dict  =======> object\n",
    "True  =======> true\n",
    "False =======> false\n",
    "None  =======> none\n",
    "\n",
    "'''"
   ]
  },
  {
   "cell_type": "code",
   "execution_count": null,
   "metadata": {},
   "outputs": [],
   "source": []
  }
 ],
 "metadata": {
  "kernelspec": {
   "display_name": "Python 3",
   "language": "python",
   "name": "python3"
  },
  "language_info": {
   "codemirror_mode": {
    "name": "ipython",
    "version": 3
   },
   "file_extension": ".py",
   "mimetype": "text/x-python",
   "name": "python",
   "nbconvert_exporter": "python",
   "pygments_lexer": "ipython3",
   "version": "3.8.10"
  }
 },
 "nbformat": 4,
 "nbformat_minor": 4
}
