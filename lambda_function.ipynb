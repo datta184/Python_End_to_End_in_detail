{
 "cells": [
  {
   "cell_type": "markdown",
   "metadata": {},
   "source": [
    "# lambda function"
   ]
  },
  {
   "cell_type": "code",
   "execution_count": 1,
   "metadata": {},
   "outputs": [],
   "source": [
    "'''\n",
    "\n",
    "Small anonymous functions can be created with the lambda keyword.\n",
    "\n",
    "'''\n",
    "# lamda function which take argument and return the sum\n",
    "square = lambda a: a ** 3\n",
    "\n",
    "print(\"Square of 4 is: \",square(2))\n"
   ]
  },
  {
   "cell_type": "code",
   "execution_count": 4,
   "metadata": {},
   "outputs": [
    {
     "name": "stdout",
     "output_type": "stream",
     "text": [
      "the sum is : 6\n"
     ]
    }
   ],
   "source": [
    "# lamda funcction take more than one argument\n",
    "add=lambda a,b,c:a+b+c\n",
    "print(\"the sum is :\",add(1,2,3))"
   ]
  },
  {
   "cell_type": "code",
   "execution_count": 7,
   "metadata": {},
   "outputs": [
    {
     "name": "stdout",
     "output_type": "stream",
     "text": [
      "Enter the number:8\n",
      "the increamented value is: 9\n"
     ]
    }
   ],
   "source": [
    "# we use lambda function in another function\n",
    "n=int(input(\"Enter the number:\"))\n",
    "def increament(n):\n",
    "    return lambda x:x+1\n",
    "result=increament(n)\n",
    "print(\"the increamented value is:\",result(n))"
   ]
  },
  {
   "cell_type": "code",
   "execution_count": null,
   "metadata": {},
   "outputs": [],
   "source": []
  }
 ],
 "metadata": {
  "kernelspec": {
   "display_name": "Python 3",
   "language": "python",
   "name": "python3"
  },
  "language_info": {
   "codemirror_mode": {
    "name": "ipython",
    "version": 3
   },
   "file_extension": ".py",
   "mimetype": "text/x-python",
   "name": "python",
   "nbconvert_exporter": "python",
   "pygments_lexer": "ipython3",
   "version": "3.8.10"
  }
 },
 "nbformat": 4,
 "nbformat_minor": 4
}
