{
 "cells": [
  {
   "cell_type": "code",
   "execution_count": 1,
   "metadata": {},
   "outputs": [
    {
     "name": "stdout",
     "output_type": "stream",
     "text": [
      "{'x-man': 100, 'spiderman': 101, 'wolverine': 102, 'batman': 104, 'ironman': 105}\n"
     ]
    }
   ],
   "source": [
    "# Dictionaries are used to store data in key value pair\n",
    "\n",
    "# creation of dictionary\n",
    "\n",
    "this_is_a_dictionary={\"x-man\":100,\"spiderman\":101,\"wolverine\":102,\"batman\":104,\"ironman\":105} # dictionary creted\n",
    "print(this_is_a_dictionary)"
   ]
  },
  {
   "cell_type": "code",
   "execution_count": 7,
   "metadata": {},
   "outputs": [
    {
     "name": "stdout",
     "output_type": "stream",
     "text": [
      "the length of dictionary is: 5\n",
      "<class 'dict'>\n"
     ]
    }
   ],
   "source": [
    "# in above cell it looks like complicated and gibberish \n",
    "this_is_a_dictionary = {\n",
    "    \n",
    "    \"x-man\":100,\n",
    "    \"spiderman\":101,\n",
    "    \"wolverine\":102,\n",
    "    \"batman\":104,\n",
    "    \"ironman\":105\n",
    "} \n",
    "# printing the dictionary length\n",
    "print(\"the length of dictionary is:\",len(this_is_a_dictionary ))\n",
    "print(type(this_is_a_dictionary ))"
   ]
  },
  {
   "cell_type": "code",
   "execution_count": 17,
   "metadata": {},
   "outputs": [
    {
     "name": "stdout",
     "output_type": "stream",
     "text": [
      "{'hi': 1, 'hello': 2, 'hey': 3}\n",
      " 1\n"
     ]
    }
   ],
   "source": [
    "# oprations on dictionary\n",
    "\n",
    "di={\"hi\":1,\"hello\":2,\"hey\":3}\n",
    "print(di)\n",
    "print(\"\",di.get(\"hi\"))"
   ]
  },
  {
   "cell_type": "code",
   "execution_count": 20,
   "metadata": {},
   "outputs": [
    {
     "name": "stdout",
     "output_type": "stream",
     "text": [
      " dict_items([('hi', 1), ('hello', 2), ('hey', 3)])\n"
     ]
    }
   ],
   "source": [
    "# printing items of dictionary\n",
    "\n",
    "print(\"\",di.items())\n"
   ]
  },
  {
   "cell_type": "code",
   "execution_count": 21,
   "metadata": {},
   "outputs": [
    {
     "name": "stdout",
     "output_type": "stream",
     "text": [
      " dict_keys(['hi', 'hello', 'hey'])\n"
     ]
    }
   ],
   "source": [
    "# printing keys of dictionary\n",
    "\n",
    "print(\"\",di.keys())"
   ]
  },
  {
   "cell_type": "code",
   "execution_count": 23,
   "metadata": {},
   "outputs": [
    {
     "name": "stdout",
     "output_type": "stream",
     "text": [
      " dict_values([1, 2, 3])\n"
     ]
    }
   ],
   "source": [
    "# printing value of dictionary\n",
    "\n",
    "print(\"\",di.values())"
   ]
  },
  {
   "cell_type": "code",
   "execution_count": 25,
   "metadata": {},
   "outputs": [
    {
     "name": "stdout",
     "output_type": "stream",
     "text": [
      "{'hi': 1, 'hello': 2, 'hey': 3}\n"
     ]
    }
   ],
   "source": [
    "# copying the dictuionary in  x varaible\n",
    "x=di.copy()\n",
    "print(x)"
   ]
  },
  {
   "cell_type": "code",
   "execution_count": null,
   "metadata": {},
   "outputs": [],
   "source": [
    "'''\n",
    "******************************* DICTIONARY METHOD ***********************************************\n",
    "\n",
    "-------------------------------------------------------------------------------------------------\n",
    "--------------------------------- DICTIONARY METHOD ---------------------------------------------\n",
    "\n",
    "01.values()\n",
    "02.update()\n",
    "03.setdefault()\n",
    "04.popitems()\n",
    "05.pop()\n",
    "06.keys()\n",
    "07.items()\n",
    "08.get()\n",
    "09.fromkeys()\n",
    "10.copy()\n",
    "11.clear()\n",
    "\n",
    "\n",
    "'''"
   ]
  },
  {
   "cell_type": "code",
   "execution_count": null,
   "metadata": {},
   "outputs": [],
   "source": [
    "'''\n",
    "*******************************************************************************************************************\n",
    "*********************************************** SUMMARY ***********************************************************\n",
    "\n",
    "1.To represent the dictionary { } are used\n",
    "2.Dictionary is mutable\n",
    "3.insertion order in not preserved in python version 2 but  preserved in python version 3\n",
    "4.Indexing and slicing is not allowed\n",
    "5.Onely value duplication allowed\n",
    "\n",
    "\n",
    "\n",
    "'''"
   ]
  }
 ],
 "metadata": {
  "kernelspec": {
   "display_name": "Python 3",
   "language": "python",
   "name": "python3"
  },
  "language_info": {
   "codemirror_mode": {
    "name": "ipython",
    "version": 3
   },
   "file_extension": ".py",
   "mimetype": "text/x-python",
   "name": "python",
   "nbconvert_exporter": "python",
   "pygments_lexer": "ipython3",
   "version": "3.8.10"
  }
 },
 "nbformat": 4,
 "nbformat_minor": 4
}
