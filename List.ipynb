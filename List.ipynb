{
 "cells": [
  {
   "cell_type": "code",
   "execution_count": null,
   "metadata": {},
   "outputs": [],
   "source": [
    "#immutuabiliyt\n",
    "\n",
    "a=10\n",
    "b=10\n",
    "c=10\n",
    "\n",
    "# in the above variables, assigned value is same and varaibles are different that means ,\n",
    "#onely one object will be created by PVM hence memory utilization and perfomance will be improved\n",
    "\n",
    "print(\"\\nThe id of a is :\",id(a))\n",
    "print(\"The id of b is :\",id(b))\n",
    "print(\"The id of c is :\",id(c))"
   ]
  },
  {
   "cell_type": "code",
   "execution_count": null,
   "metadata": {},
   "outputs": [],
   "source": []
  },
  {
   "cell_type": "code",
   "execution_count": null,
   "metadata": {},
   "outputs": [],
   "source": [
    "# LIST\n",
    "\n",
    "#In the list heterogenious object are allowed and represented by []\n",
    "\n",
    "l=[10,20,30,'speed',40.04,50+60j]\n",
    "print('\\n',\"The list l is:\",l,'\\n')\n",
    "\n",
    "#indexing is allowed\n",
    "print(\"The fifth elelment of the list is:\",l[5])"
   ]
  },
  {
   "cell_type": "code",
   "execution_count": null,
   "metadata": {},
   "outputs": [],
   "source": [
    "# The list is growable \n",
    "# e.g for int datatype\n",
    "\n",
    "ls=[90,100]\n",
    "li=[10,20,30,40,50,60,70]\n",
    "li.append(80)  \n",
    "print(li)\n",
    "print(\"the count of item is :\",li.count(10))\n",
    "li.extend(ls)\n",
    "print(\"extended list is:\",li)\n",
    "li.index(20)\n",
    "print(li.insert(5,77))\n",
    "\n"
   ]
  },
  {
   "cell_type": "code",
   "execution_count": null,
   "metadata": {},
   "outputs": [],
   "source": [
    "#some oprations on list \n",
    "\n",
    "li=[10,20,30,40,50]\n",
    "print(\"the type of li is:\",type(li))\n",
    "print(\"\\nlist is\",li)\n",
    "print(\"accesing the frist element of list:\",li[0])\n",
    "\n",
    "print(\"\\nslicing returns a new list:\",li[-3:])\n",
    "\n",
    "'''list also support concatenation'''\n",
    "x=li+[60,70]\n",
    "print(\"\\nafter concatenation:\",x)\n",
    "\n",
    "li.append(80)\n",
    "x.append(80)\n",
    "print(\"\\n\",li)#see the diffrence between the list x and list li\n",
    "print(\"\\n\",x)"
   ]
  },
  {
   "cell_type": "code",
   "execution_count": null,
   "metadata": {},
   "outputs": [],
   "source": [
    "# TO calculate or measure the length of a list \n",
    "l1=[1,'a',10.10,'true',1+2j]\n",
    "print(l1)\n",
    "print(\"The length of the l1 list is:\",len(l1))"
   ]
  },
  {
   "cell_type": "code",
   "execution_count": null,
   "metadata": {},
   "outputs": [],
   "source": [
    "# The below is a example of nesting of a list \n",
    "l1=[10,20,30,40,50]\n",
    "l2=[\"john\",\"peter\",\"robert\"]\n",
    "l3=[1+2j,2+3j,3+4j]\n",
    "l4=[l1,l2,l3]\n",
    "print(l4)\n"
   ]
  },
  {
   "cell_type": "code",
   "execution_count": null,
   "metadata": {},
   "outputs": [],
   "source": [
    "# Append in list\n",
    "\n",
    "list=[777,888,999]\n",
    "list.append(666)\n",
    "print(list)"
   ]
  },
  {
   "cell_type": "code",
   "execution_count": null,
   "metadata": {},
   "outputs": [],
   "source": [
    "# clear the list using clesr()\n",
    "list=[777,888,999]\n",
    "print(list)\n",
    "list.clear()\n",
    "print(\"This is a empty list--->\",list)"
   ]
  },
  {
   "cell_type": "code",
   "execution_count": null,
   "metadata": {},
   "outputs": [],
   "source": [
    "# copying a list\n",
    "x=[2,3]\n",
    "y=[4,5]\n",
    "z=x.copy()\n",
    "print(x)\n",
    "print(z)"
   ]
  },
  {
   "cell_type": "code",
   "execution_count": null,
   "metadata": {},
   "outputs": [],
   "source": [
    "# count ()\n",
    "cn=[30,50,60,70,70,70]\n",
    "cn.count(70)"
   ]
  },
  {
   "cell_type": "code",
   "execution_count": 71,
   "metadata": {},
   "outputs": [
    {
     "data": {
      "text/plain": [
       "0"
      ]
     },
     "execution_count": 71,
     "metadata": {},
     "output_type": "execute_result"
    }
   ],
   "source": [
    "# Index()--->return the index with specified value\n",
    "cn=[30,50,60,70,70,70]\n",
    "cn.index(30)"
   ]
  },
  {
   "cell_type": "code",
   "execution_count": 77,
   "metadata": {},
   "outputs": [
    {
     "name": "stdout",
     "output_type": "stream",
     "text": [
      "[20, 30, 506, 70]\n",
      "\n",
      "70 is poped/removed/deletedfrom list: [20, 30, 506]\n"
     ]
    }
   ],
   "source": [
    "'''Remove()------>remove items with specifred value '''\n",
    "'''pop()--------->remove element at specifeid posiotion/location'''\n",
    "\n",
    "list=[10,20,30,506,70]\n",
    "\n",
    "list.remove(10)\n",
    "print(list)\n",
    "\n",
    "list.pop(-1)\n",
    "print(\"\\n70 is poped/removed/deletedfrom list:\",list)"
   ]
  },
  {
   "cell_type": "code",
   "execution_count": 83,
   "metadata": {},
   "outputs": [
    {
     "name": "stdout",
     "output_type": "stream",
     "text": [
      "\n",
      "before the reverse(): [10, 130, 406, 9, 900]\n",
      "\n",
      "after the reverse(): [900, 9, 406, 130, 10]\n"
     ]
    }
   ],
   "source": [
    "# reverse the list \n",
    "list=[10,130,406,9,900]\n",
    "\n",
    "print(\"\\nbefore the reverse():\",list)\n",
    "\n",
    "list.reverse()\n",
    "\n",
    "print(\"\\nafter the reverse():\",list)"
   ]
  },
  {
   "cell_type": "code",
   "execution_count": 85,
   "metadata": {},
   "outputs": [
    {
     "name": "stdout",
     "output_type": "stream",
     "text": [
      "\n",
      "Before sorting: [90, 80, 70, 60, 50, 40, 30, 20, 10]\n",
      "\n",
      "After sorting: [10, 20, 30, 40, 50, 60, 70, 80, 90]\n"
     ]
    }
   ],
   "source": [
    "# sort()\n",
    "li=[90,80,70,60,50,40,30,20,10]\n",
    "\n",
    "print(\"\\nBefore sorting:\",li)\n",
    "\n",
    "li.sort()\n",
    "\n",
    "print(\"\\nAfter sorting:\",li)\n"
   ]
  },
  {
   "cell_type": "code",
   "execution_count": null,
   "metadata": {},
   "outputs": [],
   "source": [
    "'''******************************SUMMARY******************************************'''\n",
    "\n",
    "# ***********LIST.METHOD**************\n",
    "'''\n",
    "1.append()\n",
    "2.clear()\n",
    "3.copy()\n",
    "4.count()\n",
    "5.extend()\n",
    "6.index()\n",
    "7.insert()\n",
    "8.pop()\n",
    "9.remove()\n",
    "10.reverse()\n",
    "11.sort()\n",
    "'''"
   ]
  }
 ],
 "metadata": {
  "kernelspec": {
   "display_name": "Python 3",
   "language": "python",
   "name": "python3"
  },
  "language_info": {
   "codemirror_mode": {
    "name": "ipython",
    "version": 3
   },
   "file_extension": ".py",
   "mimetype": "text/x-python",
   "name": "python",
   "nbconvert_exporter": "python",
   "pygments_lexer": "ipython3",
   "version": "3.8.10"
  }
 },
 "nbformat": 4,
 "nbformat_minor": 4
}
